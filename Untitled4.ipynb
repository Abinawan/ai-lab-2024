{
 "cells": [
  {
   "cell_type": "code",
   "execution_count": 1,
   "id": "6e1c2583-ffb1-405b-997d-022439bebf03",
   "metadata": {},
   "outputs": [
    {
     "name": "stdin",
     "output_type": "stream",
     "text": [
      "enter a number: 4334\n"
     ]
    },
    {
     "name": "stdout",
     "output_type": "stream",
     "text": [
      "4334  is palindrome\n"
     ]
    }
   ],
   "source": [
    "# Palindrome Checker\n",
    "def palindrome(n):\n",
    "   num=str(n)\n",
    "   rev_num=num[::-1]\n",
    "   if(num==rev_num):\n",
    "      print(f\"{num}  is palindrome\")\n",
    "   else:\n",
    "      print(f\"{num} is not palindrome. \")\n",
    "number=input(\"enter a number:\")\n",
    "palindrome(number)"
   ]
  },
  {
   "cell_type": "code",
   "execution_count": 2,
   "id": "72864f76-42b6-4f30-9dfa-05ffca30997d",
   "metadata": {},
   "outputs": [
    {
     "name": "stdin",
     "output_type": "stream",
     "text": [
      "enter lower range: 5\n",
      "enter upper range: 80\n"
     ]
    },
    {
     "name": "stdout",
     "output_type": "stream",
     "text": [
      "prime numbers betweeen5 and 80:\n",
      "5 7 11 13 17 19 23 29 31 37 41 43 47 53 59 61 67 71 73 79 "
     ]
    }
   ],
   "source": [
    "# Prime Number Finder\n",
    "def prime(m,n):\n",
    "    print(f\"prime numbers betweeen{m} and {n}:\")\n",
    "    for num in range(m,n+1):\n",
    "        if num>1:\n",
    "            for i in range(2,num):\n",
    "                if (num%i==0):\n",
    "                    break\n",
    "            else:\n",
    "              print(num,end=\" \")\n",
    "m=int(input(\"enter lower range:\"))\n",
    "n=int(input(\"enter upper range:\"))   \n",
    "prime(m,n)"
   ]
  },
  {
   "cell_type": "code",
   "execution_count": null,
   "id": "303ed602-18e8-4628-9f20-f116336e1b27",
   "metadata": {},
   "outputs": [],
   "source": [
    "# Number Guesser\n",
    "import random as rand\n",
    "n=rand.randrange(1,100)\n",
    "guess=int(input(\"Enter your guess: \"))\n",
    "\n",
    "while n!=guess:\n",
    "    if guess<n:\n",
    "        print(\"You have guessed too small number.\")\n",
    "        guess=int(input(\"Enter your guess: \"))\n",
    "    elif guess>n:\n",
    "        print(\"You have guessed too large number.\")\n",
    "        guess=int(input(\"Enter your guess: \"))\n",
    "    else:\n",
    "        break\n",
    "print(\"Your guess is rigt!!\")"
   ]
  }
 ],
 "metadata": {
  "kernelspec": {
   "display_name": "Python 3 (ipykernel)",
   "language": "python",
   "name": "python3"
  },
  "language_info": {
   "codemirror_mode": {
    "name": "ipython",
    "version": 3
   },
   "file_extension": ".py",
   "mimetype": "text/x-python",
   "name": "python",
   "nbconvert_exporter": "python",
   "pygments_lexer": "ipython3",
   "version": "3.12.3"
  }
 },
 "nbformat": 4,
 "nbformat_minor": 5
}
